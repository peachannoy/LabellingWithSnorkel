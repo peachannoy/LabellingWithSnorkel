{
 "metadata": {
  "language_info": {
   "codemirror_mode": {
    "name": "ipython",
    "version": 3
   },
   "file_extension": ".py",
   "mimetype": "text/x-python",
   "name": "python",
   "nbconvert_exporter": "python",
   "pygments_lexer": "ipython3",
   "version": "3.8.5"
  },
  "orig_nbformat": 2,
  "kernelspec": {
   "name": "python385jvsc74a57bd04cecefe5496074b2f9ae8fefa83b6fefbab5beed54848bfaf47d14c27a79369c",
   "display_name": "Python 3.8.5 64-bit ('base': conda)"
  }
 },
 "nbformat": 4,
 "nbformat_minor": 2,
 "cells": [
  {
   "cell_type": "code",
   "execution_count": 1,
   "metadata": {},
   "outputs": [],
   "source": [
    "import snorkel\n",
    "\n",
    "import glob\n",
    "from snorkel.labeling import PandasLFApplier\n",
    "from snorkel.labeling import labeling_function\n",
    "from Datapreparation import load_dataset"
   ]
  },
  {
   "cell_type": "code",
   "execution_count": 2,
   "metadata": {},
   "outputs": [
    {
     "output_type": "stream",
     "name": "stderr",
     "text": [
      "b:\\Desktop\\Studium Gruppenarbeiten\\LabellingWithSnorkel\\Datapreparation.py:31: SettingWithCopyWarning: \nA value is trying to be set on a copy of a slice from a DataFrame.\nTry using .loc[row_indexer,col_indexer] = value instead\n\nSee the caveats in the documentation: https://pandas.pydata.org/pandas-docs/stable/user_guide/indexing.html#returning-a-view-versus-a-copy\n  df_train[\"label\"] = np.ones(len(df_train[\"label\"])) * -1\n"
     ]
    },
    {
     "output_type": "execute_result",
     "data": {
      "text/plain": [
       "                mintemp   maxtemp  rainfall  evaporation  sunshine  \\\n",
       "mintemp        1.000000  0.749687  0.110800     0.506764  0.076087   \n",
       "maxtemp        0.749687  1.000000 -0.069981     0.650964  0.463913   \n",
       "rainfall       0.110800 -0.069981  1.000000    -0.077239 -0.246379   \n",
       "evaporation    0.506764  0.650964 -0.077239     1.000000  0.369250   \n",
       "sunshine       0.076087  0.463913 -0.246379     0.369250  1.000000   \n",
       "windgustspeed  0.118054  0.035531  0.106308     0.209566 -0.052422   \n",
       "windspeed9am   0.108522 -0.008171  0.050584     0.193154 -0.013842   \n",
       "windspeed3pm   0.137273  0.012266  0.044112     0.124345  0.029200   \n",
       "humidity9am   -0.174991 -0.495781  0.263625    -0.554232 -0.500343   \n",
       "humidity3pm    0.070827 -0.448116  0.277625    -0.422436 -0.629299   \n",
       "pressure9am   -0.475661 -0.350980 -0.180606    -0.297319  0.043330   \n",
       "pressure3pm   -0.495577 -0.451691 -0.137302    -0.325954 -0.020632   \n",
       "cloud9am       0.106177 -0.263634  0.217169    -0.199809 -0.677939   \n",
       "cloud3pm       0.042173 -0.257752  0.191433    -0.202366 -0.702022   \n",
       "temp9am        0.906295  0.893387  0.013713     0.593122  0.289038   \n",
       "temp3pm        0.727222  0.984841 -0.074627     0.630727  0.486129   \n",
       "raintoday      0.048953 -0.221810  0.550515    -0.218079 -0.328904   \n",
       "label          0.087428 -0.147467  0.254342    -0.130002 -0.453407   \n",
       "\n",
       "               windgustspeed  windspeed9am  windspeed3pm  humidity9am  \\\n",
       "mintemp             0.118054      0.108522      0.137273    -0.174991   \n",
       "maxtemp             0.035531     -0.008171      0.012266    -0.495781   \n",
       "rainfall            0.106308      0.050584      0.044112     0.263625   \n",
       "evaporation         0.209566      0.193154      0.124345    -0.554232   \n",
       "sunshine           -0.052422     -0.013842      0.029200    -0.500343   \n",
       "windgustspeed       1.000000      0.608852      0.685236    -0.193410   \n",
       "windspeed9am        0.608852      1.000000      0.502226    -0.236795   \n",
       "windspeed3pm        0.685236      0.502226      1.000000    -0.100626   \n",
       "humidity9am        -0.193410     -0.236795     -0.100626     1.000000   \n",
       "humidity3pm        -0.042653     -0.058449      0.031843     0.685697   \n",
       "pressure9am        -0.430363     -0.201518     -0.293155     0.114575   \n",
       "pressure3pm        -0.383683     -0.155484     -0.252095     0.172972   \n",
       "cloud9am            0.088129      0.034908      0.068224     0.438962   \n",
       "cloud3pm            0.131590      0.062507      0.041475     0.348707   \n",
       "temp9am             0.085520      0.053749      0.114043    -0.423598   \n",
       "temp3pm            -0.000382     -0.018357     -0.009436    -0.487758   \n",
       "raintoday           0.146276      0.083125      0.085627     0.379451   \n",
       "label               0.233158      0.083904      0.088862     0.271033   \n",
       "\n",
       "               humidity3pm  pressure9am  pressure3pm  cloud9am  cloud3pm  \\\n",
       "mintemp           0.070827    -0.475661    -0.495577  0.106177  0.042173   \n",
       "maxtemp          -0.448116    -0.350980    -0.451691 -0.263634 -0.257752   \n",
       "rainfall          0.277625    -0.180606    -0.137302  0.217169  0.191433   \n",
       "evaporation      -0.422436    -0.297319    -0.325954 -0.199809 -0.202366   \n",
       "sunshine         -0.629299     0.043330    -0.020632 -0.677939 -0.702022   \n",
       "windgustspeed    -0.042653    -0.430363    -0.383683  0.088129  0.131590   \n",
       "windspeed9am     -0.058449    -0.201518    -0.155484  0.034908  0.062507   \n",
       "windspeed3pm      0.031843    -0.293155    -0.252095  0.068224  0.041475   \n",
       "humidity9am       0.685697     0.114575     0.172972  0.438962  0.348707   \n",
       "humidity3pm       1.000000    -0.063454     0.024109  0.509223  0.510996   \n",
       "pressure9am      -0.063454     1.000000     0.961538 -0.150427 -0.166334   \n",
       "pressure3pm       0.024109     0.961538     1.000000 -0.081791 -0.103173   \n",
       "cloud9am          0.509223    -0.150427    -0.081791  1.000000  0.614380   \n",
       "cloud3pm          0.510996    -0.166334    -0.103173  0.614380  1.000000   \n",
       "temp9am          -0.151614    -0.443410    -0.500509 -0.109591 -0.107885   \n",
       "temp3pm          -0.497245    -0.310774    -0.421318 -0.281213 -0.297230   \n",
       "raintoday         0.385440    -0.186848    -0.104103  0.297794  0.272034   \n",
       "label             0.455358    -0.254816    -0.230418  0.323972  0.388574   \n",
       "\n",
       "                temp9am   temp3pm  raintoday     label  \n",
       "mintemp        0.906295  0.727222   0.048953  0.087428  \n",
       "maxtemp        0.893387  0.984841  -0.221810 -0.147467  \n",
       "rainfall       0.013713 -0.074627   0.550515  0.254342  \n",
       "evaporation    0.593122  0.630727  -0.218079 -0.130002  \n",
       "sunshine       0.289038  0.486129  -0.328904 -0.453407  \n",
       "windgustspeed  0.085520 -0.000382   0.146276  0.233158  \n",
       "windspeed9am   0.053749 -0.018357   0.083125  0.083904  \n",
       "windspeed3pm   0.114043 -0.009436   0.085627  0.088862  \n",
       "humidity9am   -0.423598 -0.487758   0.379451  0.271033  \n",
       "humidity3pm   -0.151614 -0.497245   0.385440  0.455358  \n",
       "pressure9am   -0.443410 -0.310774  -0.186848 -0.254816  \n",
       "pressure3pm   -0.500509 -0.421318  -0.104103 -0.230418  \n",
       "cloud9am      -0.109591 -0.281213   0.297794  0.323972  \n",
       "cloud3pm      -0.107885 -0.297230   0.272034  0.388574  \n",
       "temp9am        1.000000  0.870620  -0.096946 -0.018179  \n",
       "temp3pm        0.870620  1.000000  -0.228515 -0.183586  \n",
       "raintoday     -0.096946 -0.228515   1.000000  0.309098  \n",
       "label         -0.018179 -0.183586   0.309098  1.000000  "
      ],
      "text/html": "<div>\n<style scoped>\n    .dataframe tbody tr th:only-of-type {\n        vertical-align: middle;\n    }\n\n    .dataframe tbody tr th {\n        vertical-align: top;\n    }\n\n    .dataframe thead th {\n        text-align: right;\n    }\n</style>\n<table border=\"1\" class=\"dataframe\">\n  <thead>\n    <tr style=\"text-align: right;\">\n      <th></th>\n      <th>mintemp</th>\n      <th>maxtemp</th>\n      <th>rainfall</th>\n      <th>evaporation</th>\n      <th>sunshine</th>\n      <th>windgustspeed</th>\n      <th>windspeed9am</th>\n      <th>windspeed3pm</th>\n      <th>humidity9am</th>\n      <th>humidity3pm</th>\n      <th>pressure9am</th>\n      <th>pressure3pm</th>\n      <th>cloud9am</th>\n      <th>cloud3pm</th>\n      <th>temp9am</th>\n      <th>temp3pm</th>\n      <th>raintoday</th>\n      <th>label</th>\n    </tr>\n  </thead>\n  <tbody>\n    <tr>\n      <th>mintemp</th>\n      <td>1.000000</td>\n      <td>0.749687</td>\n      <td>0.110800</td>\n      <td>0.506764</td>\n      <td>0.076087</td>\n      <td>0.118054</td>\n      <td>0.108522</td>\n      <td>0.137273</td>\n      <td>-0.174991</td>\n      <td>0.070827</td>\n      <td>-0.475661</td>\n      <td>-0.495577</td>\n      <td>0.106177</td>\n      <td>0.042173</td>\n      <td>0.906295</td>\n      <td>0.727222</td>\n      <td>0.048953</td>\n      <td>0.087428</td>\n    </tr>\n    <tr>\n      <th>maxtemp</th>\n      <td>0.749687</td>\n      <td>1.000000</td>\n      <td>-0.069981</td>\n      <td>0.650964</td>\n      <td>0.463913</td>\n      <td>0.035531</td>\n      <td>-0.008171</td>\n      <td>0.012266</td>\n      <td>-0.495781</td>\n      <td>-0.448116</td>\n      <td>-0.350980</td>\n      <td>-0.451691</td>\n      <td>-0.263634</td>\n      <td>-0.257752</td>\n      <td>0.893387</td>\n      <td>0.984841</td>\n      <td>-0.221810</td>\n      <td>-0.147467</td>\n    </tr>\n    <tr>\n      <th>rainfall</th>\n      <td>0.110800</td>\n      <td>-0.069981</td>\n      <td>1.000000</td>\n      <td>-0.077239</td>\n      <td>-0.246379</td>\n      <td>0.106308</td>\n      <td>0.050584</td>\n      <td>0.044112</td>\n      <td>0.263625</td>\n      <td>0.277625</td>\n      <td>-0.180606</td>\n      <td>-0.137302</td>\n      <td>0.217169</td>\n      <td>0.191433</td>\n      <td>0.013713</td>\n      <td>-0.074627</td>\n      <td>0.550515</td>\n      <td>0.254342</td>\n    </tr>\n    <tr>\n      <th>evaporation</th>\n      <td>0.506764</td>\n      <td>0.650964</td>\n      <td>-0.077239</td>\n      <td>1.000000</td>\n      <td>0.369250</td>\n      <td>0.209566</td>\n      <td>0.193154</td>\n      <td>0.124345</td>\n      <td>-0.554232</td>\n      <td>-0.422436</td>\n      <td>-0.297319</td>\n      <td>-0.325954</td>\n      <td>-0.199809</td>\n      <td>-0.202366</td>\n      <td>0.593122</td>\n      <td>0.630727</td>\n      <td>-0.218079</td>\n      <td>-0.130002</td>\n    </tr>\n    <tr>\n      <th>sunshine</th>\n      <td>0.076087</td>\n      <td>0.463913</td>\n      <td>-0.246379</td>\n      <td>0.369250</td>\n      <td>1.000000</td>\n      <td>-0.052422</td>\n      <td>-0.013842</td>\n      <td>0.029200</td>\n      <td>-0.500343</td>\n      <td>-0.629299</td>\n      <td>0.043330</td>\n      <td>-0.020632</td>\n      <td>-0.677939</td>\n      <td>-0.702022</td>\n      <td>0.289038</td>\n      <td>0.486129</td>\n      <td>-0.328904</td>\n      <td>-0.453407</td>\n    </tr>\n    <tr>\n      <th>windgustspeed</th>\n      <td>0.118054</td>\n      <td>0.035531</td>\n      <td>0.106308</td>\n      <td>0.209566</td>\n      <td>-0.052422</td>\n      <td>1.000000</td>\n      <td>0.608852</td>\n      <td>0.685236</td>\n      <td>-0.193410</td>\n      <td>-0.042653</td>\n      <td>-0.430363</td>\n      <td>-0.383683</td>\n      <td>0.088129</td>\n      <td>0.131590</td>\n      <td>0.085520</td>\n      <td>-0.000382</td>\n      <td>0.146276</td>\n      <td>0.233158</td>\n    </tr>\n    <tr>\n      <th>windspeed9am</th>\n      <td>0.108522</td>\n      <td>-0.008171</td>\n      <td>0.050584</td>\n      <td>0.193154</td>\n      <td>-0.013842</td>\n      <td>0.608852</td>\n      <td>1.000000</td>\n      <td>0.502226</td>\n      <td>-0.236795</td>\n      <td>-0.058449</td>\n      <td>-0.201518</td>\n      <td>-0.155484</td>\n      <td>0.034908</td>\n      <td>0.062507</td>\n      <td>0.053749</td>\n      <td>-0.018357</td>\n      <td>0.083125</td>\n      <td>0.083904</td>\n    </tr>\n    <tr>\n      <th>windspeed3pm</th>\n      <td>0.137273</td>\n      <td>0.012266</td>\n      <td>0.044112</td>\n      <td>0.124345</td>\n      <td>0.029200</td>\n      <td>0.685236</td>\n      <td>0.502226</td>\n      <td>1.000000</td>\n      <td>-0.100626</td>\n      <td>0.031843</td>\n      <td>-0.293155</td>\n      <td>-0.252095</td>\n      <td>0.068224</td>\n      <td>0.041475</td>\n      <td>0.114043</td>\n      <td>-0.009436</td>\n      <td>0.085627</td>\n      <td>0.088862</td>\n    </tr>\n    <tr>\n      <th>humidity9am</th>\n      <td>-0.174991</td>\n      <td>-0.495781</td>\n      <td>0.263625</td>\n      <td>-0.554232</td>\n      <td>-0.500343</td>\n      <td>-0.193410</td>\n      <td>-0.236795</td>\n      <td>-0.100626</td>\n      <td>1.000000</td>\n      <td>0.685697</td>\n      <td>0.114575</td>\n      <td>0.172972</td>\n      <td>0.438962</td>\n      <td>0.348707</td>\n      <td>-0.423598</td>\n      <td>-0.487758</td>\n      <td>0.379451</td>\n      <td>0.271033</td>\n    </tr>\n    <tr>\n      <th>humidity3pm</th>\n      <td>0.070827</td>\n      <td>-0.448116</td>\n      <td>0.277625</td>\n      <td>-0.422436</td>\n      <td>-0.629299</td>\n      <td>-0.042653</td>\n      <td>-0.058449</td>\n      <td>0.031843</td>\n      <td>0.685697</td>\n      <td>1.000000</td>\n      <td>-0.063454</td>\n      <td>0.024109</td>\n      <td>0.509223</td>\n      <td>0.510996</td>\n      <td>-0.151614</td>\n      <td>-0.497245</td>\n      <td>0.385440</td>\n      <td>0.455358</td>\n    </tr>\n    <tr>\n      <th>pressure9am</th>\n      <td>-0.475661</td>\n      <td>-0.350980</td>\n      <td>-0.180606</td>\n      <td>-0.297319</td>\n      <td>0.043330</td>\n      <td>-0.430363</td>\n      <td>-0.201518</td>\n      <td>-0.293155</td>\n      <td>0.114575</td>\n      <td>-0.063454</td>\n      <td>1.000000</td>\n      <td>0.961538</td>\n      <td>-0.150427</td>\n      <td>-0.166334</td>\n      <td>-0.443410</td>\n      <td>-0.310774</td>\n      <td>-0.186848</td>\n      <td>-0.254816</td>\n    </tr>\n    <tr>\n      <th>pressure3pm</th>\n      <td>-0.495577</td>\n      <td>-0.451691</td>\n      <td>-0.137302</td>\n      <td>-0.325954</td>\n      <td>-0.020632</td>\n      <td>-0.383683</td>\n      <td>-0.155484</td>\n      <td>-0.252095</td>\n      <td>0.172972</td>\n      <td>0.024109</td>\n      <td>0.961538</td>\n      <td>1.000000</td>\n      <td>-0.081791</td>\n      <td>-0.103173</td>\n      <td>-0.500509</td>\n      <td>-0.421318</td>\n      <td>-0.104103</td>\n      <td>-0.230418</td>\n    </tr>\n    <tr>\n      <th>cloud9am</th>\n      <td>0.106177</td>\n      <td>-0.263634</td>\n      <td>0.217169</td>\n      <td>-0.199809</td>\n      <td>-0.677939</td>\n      <td>0.088129</td>\n      <td>0.034908</td>\n      <td>0.068224</td>\n      <td>0.438962</td>\n      <td>0.509223</td>\n      <td>-0.150427</td>\n      <td>-0.081791</td>\n      <td>1.000000</td>\n      <td>0.614380</td>\n      <td>-0.109591</td>\n      <td>-0.281213</td>\n      <td>0.297794</td>\n      <td>0.323972</td>\n    </tr>\n    <tr>\n      <th>cloud3pm</th>\n      <td>0.042173</td>\n      <td>-0.257752</td>\n      <td>0.191433</td>\n      <td>-0.202366</td>\n      <td>-0.702022</td>\n      <td>0.131590</td>\n      <td>0.062507</td>\n      <td>0.041475</td>\n      <td>0.348707</td>\n      <td>0.510996</td>\n      <td>-0.166334</td>\n      <td>-0.103173</td>\n      <td>0.614380</td>\n      <td>1.000000</td>\n      <td>-0.107885</td>\n      <td>-0.297230</td>\n      <td>0.272034</td>\n      <td>0.388574</td>\n    </tr>\n    <tr>\n      <th>temp9am</th>\n      <td>0.906295</td>\n      <td>0.893387</td>\n      <td>0.013713</td>\n      <td>0.593122</td>\n      <td>0.289038</td>\n      <td>0.085520</td>\n      <td>0.053749</td>\n      <td>0.114043</td>\n      <td>-0.423598</td>\n      <td>-0.151614</td>\n      <td>-0.443410</td>\n      <td>-0.500509</td>\n      <td>-0.109591</td>\n      <td>-0.107885</td>\n      <td>1.000000</td>\n      <td>0.870620</td>\n      <td>-0.096946</td>\n      <td>-0.018179</td>\n    </tr>\n    <tr>\n      <th>temp3pm</th>\n      <td>0.727222</td>\n      <td>0.984841</td>\n      <td>-0.074627</td>\n      <td>0.630727</td>\n      <td>0.486129</td>\n      <td>-0.000382</td>\n      <td>-0.018357</td>\n      <td>-0.009436</td>\n      <td>-0.487758</td>\n      <td>-0.497245</td>\n      <td>-0.310774</td>\n      <td>-0.421318</td>\n      <td>-0.281213</td>\n      <td>-0.297230</td>\n      <td>0.870620</td>\n      <td>1.000000</td>\n      <td>-0.228515</td>\n      <td>-0.183586</td>\n    </tr>\n    <tr>\n      <th>raintoday</th>\n      <td>0.048953</td>\n      <td>-0.221810</td>\n      <td>0.550515</td>\n      <td>-0.218079</td>\n      <td>-0.328904</td>\n      <td>0.146276</td>\n      <td>0.083125</td>\n      <td>0.085627</td>\n      <td>0.379451</td>\n      <td>0.385440</td>\n      <td>-0.186848</td>\n      <td>-0.104103</td>\n      <td>0.297794</td>\n      <td>0.272034</td>\n      <td>-0.096946</td>\n      <td>-0.228515</td>\n      <td>1.000000</td>\n      <td>0.309098</td>\n    </tr>\n    <tr>\n      <th>label</th>\n      <td>0.087428</td>\n      <td>-0.147467</td>\n      <td>0.254342</td>\n      <td>-0.130002</td>\n      <td>-0.453407</td>\n      <td>0.233158</td>\n      <td>0.083904</td>\n      <td>0.088862</td>\n      <td>0.271033</td>\n      <td>0.455358</td>\n      <td>-0.254816</td>\n      <td>-0.230418</td>\n      <td>0.323972</td>\n      <td>0.388574</td>\n      <td>-0.018179</td>\n      <td>-0.183586</td>\n      <td>0.309098</td>\n      <td>1.000000</td>\n    </tr>\n  </tbody>\n</table>\n</div>"
     },
     "metadata": {},
     "execution_count": 2
    }
   ],
   "source": [
    "\n",
    "df_train, df_test, df = load_dataset()\n",
    "#Testlabel zum vergleich\n",
    "Y_test = df_test.label.values\n",
    "#Um relevante Labelling Functions zu ermitteln\n",
    "df.corr()"
   ]
  },
  {
   "cell_type": "code",
   "execution_count": 3,
   "metadata": {},
   "outputs": [
    {
     "output_type": "stream",
     "name": "stdout",
     "text": [
      "Dataframe mit morgigem Regen: \n\nrainfall\nQuantil 25%:   0.0\nMean:   5.487301842761682\nMedian:   0.8\n---------------------------\nhumidity3pm\nQuantil 25%:   55.0\nMean:   66.90593063490786\nMedian:   68.0\n---------------------------\nhumidity9am\nQuantil 25%:   66.0\nMean:   75.31495936267804\nMedian:   77.0\n---------------------------\ncloud3pm\nQuantil 25%:   6.0\nMean:   6.261929669268528\nMedian:   7.0\n---------------------------\nwindgustspeed\nQuantil 25%:   35.0\nMean:   46.7273678281162\nMedian:   44.0\n---------------------------\nsunshine\nQuantil 25%:   1.4\nMean:   4.529596845578143\nMedian:   4.3\n---------------------------\npressure9am\nQuantil 25%:   1009.3\nMean:   1013.9269091494348\nMedian:   1013.8\n---------------------------\n"
     ]
    }
   ],
   "source": [
    "df = df[df[\"label\"]==1]\n",
    "#Um Aktivierungswerte zu ermitteln\n",
    "print(\"Dataframe mit morgigem Regen: \\n\")\n",
    "print(\"rainfall\")\n",
    "print(\"Quantil 25%:  \",df[\"rainfall\"].quantile(0.25))\n",
    "print(\"Mean:  \",df[\"rainfall\"].mean())\n",
    "print(\"Median:  \",df[\"rainfall\"].median())\n",
    "print(\"---------------------------\")\n",
    "print(\"humidity3pm\")\n",
    "print(\"Quantil 25%:  \",df[\"humidity3pm\"].quantile(0.25))\n",
    "print(\"Mean:  \",df[\"humidity3pm\"].mean())\n",
    "print(\"Median:  \",df[\"humidity3pm\"].median())\n",
    "print(\"---------------------------\")\n",
    "print(\"humidity9am\")\n",
    "print(\"Quantil 25%:  \",df[\"humidity9am\"].quantile(0.25))\n",
    "print(\"Mean:  \",df[\"humidity9am\"].mean())\n",
    "print(\"Median:  \",df[\"humidity9am\"].median())\n",
    "print(\"---------------------------\")\n",
    "print(\"cloud3pm\")\n",
    "print(\"Quantil 25%:  \",df[\"cloud3pm\"].quantile(0.25))\n",
    "print(\"Mean:  \",df[\"cloud3pm\"].mean())\n",
    "print(\"Median:  \",df[\"cloud3pm\"].median())\n",
    "print(\"---------------------------\")\n",
    "print(\"windgustspeed\")\n",
    "print(\"Quantil 25%:  \",df[\"windgustspeed\"].quantile(0.25))\n",
    "print(\"Mean:  \",df[\"windgustspeed\"].mean())\n",
    "print(\"Median:  \",df[\"windgustspeed\"].median())\n",
    "print(\"---------------------------\")\n",
    "print(\"sunshine\")\n",
    "print(\"Quantil 25%:  \",df[\"sunshine\"].quantile(0.25))\n",
    "print(\"Mean:  \",df[\"sunshine\"].mean())\n",
    "print(\"Median:  \",df[\"sunshine\"].median())\n",
    "print(\"---------------------------\")\n",
    "print(\"pressure9am\")\n",
    "print(\"Quantil 25%:  \",df[\"pressure9am\"].quantile(0.25))\n",
    "print(\"Mean:  \",df[\"pressure9am\"].mean())\n",
    "print(\"Median:  \",df[\"pressure9am\"].median())\n",
    "print(\"---------------------------\")\n"
   ]
  },
  {
   "cell_type": "code",
   "execution_count": 4,
   "metadata": {},
   "outputs": [
    {
     "output_type": "stream",
     "name": "stderr",
     "text": [
      "b:\\Desktop\\Studium Gruppenarbeiten\\LabellingWithSnorkel\\Datapreparation.py:31: SettingWithCopyWarning: \nA value is trying to be set on a copy of a slice from a DataFrame.\nTry using .loc[row_indexer,col_indexer] = value instead\n\nSee the caveats in the documentation: https://pandas.pydata.org/pandas-docs/stable/user_guide/indexing.html#returning-a-view-versus-a-copy\n  df_train[\"label\"] = np.ones(len(df_train[\"label\"])) * -1\n"
     ]
    }
   ],
   "source": [
    "df_train, df_test, df = load_dataset()"
   ]
  },
  {
   "cell_type": "code",
   "execution_count": 5,
   "metadata": {},
   "outputs": [
    {
     "output_type": "stream",
     "name": "stdout",
     "text": [
      "Dataframe mit keinem Regen morgen: \n\nrainfall\nQuantil 25%:   0.0\nMean:   1.1821494328643003\nMedian:   0.0\n---------------------------\nhumidity3pm\nQuantil 25%:   32.0\nMean:   44.714022685427224\nMedian:   46.0\n---------------------------\nhumidity9am\nQuantil 25%:   53.0\nMean:   63.20730570772623\nMedian:   64.0\n---------------------------\ncloud3pm\nQuantil 25%:   1.0\nMean:   3.7798058782078967\nMedian:   3.0\n---------------------------\nwindgustspeed\nQuantil 25%:   31.0\nMean:   39.224876684927146\nMedian:   37.0\n---------------------------\nsunshine\nQuantil 25%:   6.7\nMean:   8.641254290455311\nMedian:   9.5\n---------------------------\npressure9am\nQuantil 25%:   1013.7\nMean:   1018.1752369695236\nMedian:   1018.0\n---------------------------\n"
     ]
    }
   ],
   "source": [
    "df = df[df[\"label\"]==0]\n",
    "#Um Aktivierungswerte zu ermitteln\n",
    "print(\"Dataframe mit keinem Regen morgen: \\n\")\n",
    "print(\"rainfall\")\n",
    "print(\"Quantil 25%:  \",df[\"rainfall\"].quantile(0.25))\n",
    "print(\"Mean:  \",df[\"rainfall\"].mean())\n",
    "print(\"Median:  \",df[\"rainfall\"].median())\n",
    "print(\"---------------------------\")\n",
    "print(\"humidity3pm\")\n",
    "print(\"Quantil 25%:  \",df[\"humidity3pm\"].quantile(0.25))\n",
    "print(\"Mean:  \",df[\"humidity3pm\"].mean())\n",
    "print(\"Median:  \",df[\"humidity3pm\"].median())\n",
    "print(\"---------------------------\")\n",
    "print(\"humidity9am\")\n",
    "print(\"Quantil 25%:  \",df[\"humidity9am\"].quantile(0.25))\n",
    "print(\"Mean:  \",df[\"humidity9am\"].mean())\n",
    "print(\"Median:  \",df[\"humidity9am\"].median())\n",
    "print(\"---------------------------\")\n",
    "print(\"cloud3pm\")\n",
    "print(\"Quantil 25%:  \",df[\"cloud3pm\"].quantile(0.25))\n",
    "print(\"Mean:  \",df[\"cloud3pm\"].mean())\n",
    "print(\"Median:  \",df[\"cloud3pm\"].median())\n",
    "print(\"---------------------------\")\n",
    "print(\"windgustspeed\")\n",
    "print(\"Quantil 25%:  \",df[\"windgustspeed\"].quantile(0.25))\n",
    "print(\"Mean:  \",df[\"windgustspeed\"].mean())\n",
    "print(\"Median:  \",df[\"windgustspeed\"].median())\n",
    "print(\"---------------------------\")\n",
    "print(\"sunshine\")\n",
    "print(\"Quantil 25%:  \",df[\"sunshine\"].quantile(0.25))\n",
    "print(\"Mean:  \",df[\"sunshine\"].mean())\n",
    "print(\"Median:  \",df[\"sunshine\"].median())\n",
    "print(\"---------------------------\")\n",
    "print(\"pressure9am\")\n",
    "print(\"Quantil 25%:  \",df[\"pressure9am\"].quantile(0.25))\n",
    "print(\"Mean:  \",df[\"pressure9am\"].mean())\n",
    "print(\"Median:  \",df[\"pressure9am\"].median())\n",
    "print(\"---------------------------\")"
   ]
  },
  {
   "cell_type": "code",
   "execution_count": 6,
   "metadata": {},
   "outputs": [],
   "source": [
    "# For clarity, we define constants to represent the class labels\n",
    "ABSTAIN = -1\n",
    "NORAIN = 0\n",
    "RAIN = 1"
   ]
  },
  {
   "cell_type": "code",
   "execution_count": 7,
   "metadata": {},
   "outputs": [],
   "source": [
    "\n",
    "@labeling_function()\n",
    "def rainfall(x):\n",
    "    if x.rainfall >= 0 and x.rainfall <= 0.8:\n",
    "        return ABSTAIN\n",
    "    elif x.rainfall > 0.8:\n",
    "        return RAIN\n",
    "\n",
    "@labeling_function()\n",
    "def humidity3pm(x):\n",
    "    if  x.humidity3pm >= 46 and x.humidity3pm <= 68:\n",
    "        return ABSTAIN\n",
    "    elif x.humidity3pm > 68:\n",
    "        return RAIN\n",
    "    else:\n",
    "        return NORAIN\n",
    "    \n",
    "@labeling_function()\n",
    "def humidity9am(x):\n",
    "    if  x.humidity9am >= 64 and x.humidity9am <= 77:\n",
    "        return ABSTAIN\n",
    "    elif x.humidity9am > 77:\n",
    "        return RAIN\n",
    "    else:\n",
    "        return NORAIN\n",
    "\n",
    "@labeling_function()\n",
    "def cloud3pm(x):\n",
    "    if x.cloud3pm >= 3 and x.cloud3pm <= 7:\n",
    "        return ABSTAIN\n",
    "    elif x.cloud3pm > 7:\n",
    "        return RAIN\n",
    "    else:\n",
    "        return NORAIN\n",
    "\n",
    "@labeling_function()\n",
    "def windGustSpeed(x):\n",
    "    if x.windgustspeed >= 37 and x.windgustspeed <= 44:\n",
    "        return ABSTAIN\n",
    "    elif x.windgustspeed > 44:\n",
    "        return RAIN\n",
    "    else:\n",
    "        return NORAIN\n",
    "\n",
    "@labeling_function()\n",
    "def sunshine(x):\n",
    "    if x.sunshine >= 4 and x.sunshine <= 9:\n",
    "        return ABSTAIN\n",
    "    elif x.sunshine < 4:\n",
    "        return RAIN\n",
    "    else:\n",
    "        return NORAIN\n"
   ]
  },
  {
   "cell_type": "code",
   "execution_count": 8,
   "metadata": {},
   "outputs": [],
   "source": [
    "lfs = [\n",
    "    rainfall,\n",
    "    humidity3pm,\n",
    "    humidity9am,\n",
    "    cloud3pm,\n",
    "    windGustSpeed,\n",
    "    sunshine\n",
    "]"
   ]
  },
  {
   "cell_type": "code",
   "execution_count": 9,
   "metadata": {},
   "outputs": [
    {
     "output_type": "stream",
     "name": "stderr",
     "text": [
      "c:\\Users\\Timo\\anaconda3\\lib\\site-packages\\tqdm\\std.py:697: FutureWarning: The Panel class is removed from pandas. Accessing it from the top-level namespace will also be removed in the next version\n",
      "  from pandas import Panel\n",
      "100%|██████████| 55170/55170 [00:14<00:00, 3939.93it/s]\n",
      "100%|██████████| 1250/1250 [00:00<00:00, 4295.65it/s]\n"
     ]
    }
   ],
   "source": [
    "applier = PandasLFApplier(lfs=lfs)\n",
    "L_train = applier.apply(df=df_train)\n",
    "L_test = applier.apply(df=df_test)"
   ]
  },
  {
   "cell_type": "code",
   "execution_count": 10,
   "metadata": {},
   "outputs": [
    {
     "output_type": "execute_result",
     "data": {
      "text/plain": [
       "               j Polarity  Coverage  Overlaps  Conflicts\n",
       "rainfall       0      [1]  0.233533  0.228421   0.129019\n",
       "humidity3pm    1   [0, 1]  0.572213  0.565162   0.263332\n",
       "humidity9am    2   [0, 1]  0.701251  0.686388   0.358129\n",
       "cloud3pm       3   [0, 1]  0.413866  0.411129   0.171615\n",
       "windGustSpeed  4   [0, 1]  0.718198  0.686533   0.400798\n",
       "sunshine       5   [0, 1]  0.656190  0.644064   0.285753"
      ],
      "text/html": "<div>\n<style scoped>\n    .dataframe tbody tr th:only-of-type {\n        vertical-align: middle;\n    }\n\n    .dataframe tbody tr th {\n        vertical-align: top;\n    }\n\n    .dataframe thead th {\n        text-align: right;\n    }\n</style>\n<table border=\"1\" class=\"dataframe\">\n  <thead>\n    <tr style=\"text-align: right;\">\n      <th></th>\n      <th>j</th>\n      <th>Polarity</th>\n      <th>Coverage</th>\n      <th>Overlaps</th>\n      <th>Conflicts</th>\n    </tr>\n  </thead>\n  <tbody>\n    <tr>\n      <th>rainfall</th>\n      <td>0</td>\n      <td>[1]</td>\n      <td>0.233533</td>\n      <td>0.228421</td>\n      <td>0.129019</td>\n    </tr>\n    <tr>\n      <th>humidity3pm</th>\n      <td>1</td>\n      <td>[0, 1]</td>\n      <td>0.572213</td>\n      <td>0.565162</td>\n      <td>0.263332</td>\n    </tr>\n    <tr>\n      <th>humidity9am</th>\n      <td>2</td>\n      <td>[0, 1]</td>\n      <td>0.701251</td>\n      <td>0.686388</td>\n      <td>0.358129</td>\n    </tr>\n    <tr>\n      <th>cloud3pm</th>\n      <td>3</td>\n      <td>[0, 1]</td>\n      <td>0.413866</td>\n      <td>0.411129</td>\n      <td>0.171615</td>\n    </tr>\n    <tr>\n      <th>windGustSpeed</th>\n      <td>4</td>\n      <td>[0, 1]</td>\n      <td>0.718198</td>\n      <td>0.686533</td>\n      <td>0.400798</td>\n    </tr>\n    <tr>\n      <th>sunshine</th>\n      <td>5</td>\n      <td>[0, 1]</td>\n      <td>0.656190</td>\n      <td>0.644064</td>\n      <td>0.285753</td>\n    </tr>\n  </tbody>\n</table>\n</div>"
     },
     "metadata": {},
     "execution_count": 10
    }
   ],
   "source": [
    "#Zwischenstatus\n",
    "from snorkel.labeling import LFAnalysis\n",
    "LFAnalysis(L=L_train, lfs=lfs).lf_summary()"
   ]
  },
  {
   "cell_type": "code",
   "execution_count": 11,
   "metadata": {},
   "outputs": [],
   "source": [
    "from snorkel.labeling.model import MajorityLabelVoter\n",
    "#Majoritiy Voter\n",
    "majority_model = MajorityLabelVoter()\n",
    "preds_train = majority_model.predict(L=L_train)"
   ]
  },
  {
   "cell_type": "code",
   "execution_count": 12,
   "metadata": {},
   "outputs": [
    {
     "output_type": "stream",
     "name": "stdout",
     "text": [
      "Majority Vote Accuracy:   74.8%\n"
     ]
    }
   ],
   "source": [
    "majority_acc = majority_model.score(L=L_test, Y=Y_test, tie_break_policy=\"random\")[\"accuracy\"]\n",
    "print(f\"{'Majority Vote Accuracy:':<25} {majority_acc * 100:.1f}%\")"
   ]
  },
  {
   "cell_type": "code",
   "execution_count": 17,
   "metadata": {},
   "outputs": [
    {
     "output_type": "stream",
     "name": "stdout",
     "text": [
      "Label Model Accuracy:     69.5%\n"
     ]
    }
   ],
   "source": [
    "from snorkel.labeling.model import LabelModel\n",
    "\n",
    "label_model = LabelModel(cardinality=2, verbose=True)\n",
    "label_model.fit(L_train=L_train, n_epochs=1000, log_freq=100, seed=123)\n",
    "\n",
    "label_model_acc = label_model.score(L=L_test, Y=Y_test, tie_break_policy=\"random\")[\n",
    "    \"accuracy\"\n",
    "]\n",
    "print(f\"{'Label Model Accuracy:':<25} {label_model_acc * 100:.1f}%\")\n"
   ]
  }
 ]
}